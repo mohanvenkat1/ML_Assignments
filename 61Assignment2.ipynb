{
  "nbformat": 4,
  "nbformat_minor": 0,
  "metadata": {
    "colab": {
      "provenance": [],
      "authorship_tag": "ABX9TyMIpXdBVXlI/fQMG6YRK/dw",
      "include_colab_link": true
    },
    "kernelspec": {
      "name": "python3",
      "display_name": "Python 3"
    },
    "language_info": {
      "name": "python"
    }
  },
  "cells": [
    {
      "cell_type": "markdown",
      "metadata": {
        "id": "view-in-github",
        "colab_type": "text"
      },
      "source": [
        "<a href=\"https://colab.research.google.com/github/mohanvenkat1/ML_Assignments/blob/main/61Assignment2.ipynb\" target=\"_parent\"><img src=\"https://colab.research.google.com/assets/colab-badge.svg\" alt=\"Open In Colab\"/></a>"
      ]
    },
    {
      "cell_type": "markdown",
      "source": [
        "1. Create a Pandas DataFrame from the following dictionary:\n",
        "data = {\n",
        " 'Name': ['Alice', 'Bob', 'Carol'],\n",
        " 'Age': [24, 27, 22],\n",
        " 'Salary': [50000, 55000, 48000]\n",
        "}\n",
        "• Add a new column called Bonus which is 10% of the salary."
      ],
      "metadata": {
        "id": "g_DmARULAj5u"
      }
    },
    {
      "cell_type": "code",
      "execution_count": 1,
      "metadata": {
        "colab": {
          "base_uri": "https://localhost:8080/"
        },
        "id": "fkBaliBkAdtp",
        "outputId": "cab20818-0833-4a86-9a15-6af832c090b5"
      },
      "outputs": [
        {
          "output_type": "stream",
          "name": "stdout",
          "text": [
            "    Name  Age  Salary   Bonus\n",
            "0  Alice   24   50000  5000.0\n",
            "1    Bob   27   55000  5500.0\n",
            "2  Carol   22   48000  4800.0\n"
          ]
        }
      ],
      "source": [
        "import pandas as pd\n",
        "data = {\n",
        "    'Name': ['Alice', 'Bob', 'Carol'],\n",
        "    'Age': [24, 27, 22],\n",
        "    'Salary': [50000, 55000, 48000]\n",
        "}\n",
        "data_frame = pd.DataFrame(data)\n",
        "data_frame['Bonus'] = data_frame['Salary'] * 0.10\n",
        "print(data_frame)\n"
      ]
    },
    {
      "cell_type": "markdown",
      "source": [
        "2. Given the DataFrame created in the above question:\n",
        "• Display the first two rows.\n",
        "• Compute the mean salary."
      ],
      "metadata": {
        "id": "cTMjNapHA8W9"
      }
    },
    {
      "cell_type": "code",
      "source": [
        "print(data_frame.head(2))\n",
        "mean_salary = data_frame['Salary'].mean()\n",
        "print(\"Mean Salary:\", mean_salary)\n"
      ],
      "metadata": {
        "colab": {
          "base_uri": "https://localhost:8080/"
        },
        "id": "KXJN1bVUBAB1",
        "outputId": "7e5df36a-079f-410f-ce09-dfa4d6b7cdf5"
      },
      "execution_count": 4,
      "outputs": [
        {
          "output_type": "stream",
          "name": "stdout",
          "text": [
            "    Name  Age  Salary   Bonus\n",
            "0  Alice   24   50000  5000.0\n",
            "1    Bob   27   55000  5500.0\n",
            "Mean Salary: 51000.0\n"
          ]
        }
      ]
    },
    {
      "cell_type": "markdown",
      "source": [
        "3. Using the same DataFrame:\n",
        "• Extract all rows where the Age is greater than 25.\n",
        "• Filter out rows where the Salary is less than 50000."
      ],
      "metadata": {
        "id": "vfvZY_9lBgiC"
      }
    },
    {
      "cell_type": "code",
      "source": [
        "age_filtered = data_frame[data_frame['Age'] > 25]\n",
        "print(age_filtered)\n",
        "salary_filtered = data_frame[data_frame['Salary'] >= 50000]\n",
        "print(\"\\n\\n\",salary_filtered)\n"
      ],
      "metadata": {
        "colab": {
          "base_uri": "https://localhost:8080/"
        },
        "id": "LTR-AroKBkvL",
        "outputId": "fda168b0-1a6e-4c40-f06c-8afb80fbaec5"
      },
      "execution_count": 7,
      "outputs": [
        {
          "output_type": "stream",
          "name": "stdout",
          "text": [
            "  Name  Age  Salary   Bonus\n",
            "1  Bob   27   55000  5500.0\n",
            "\n",
            "\n",
            "     Name  Age  Salary   Bonus\n",
            "0  Alice   24   50000  5000.0\n",
            "1    Bob   27   55000  5500.0\n"
          ]
        }
      ]
    },
    {
      "cell_type": "markdown",
      "source": [
        "4. Create the following DataFrame:\n",
        "data = {\n",
        " 'A': [1, 2, None, 4],\n",
        " 'B': [None, 2, 3, None],\n",
        " 'C': [1, 2, 3, 4]\n",
        "}\n",
        "df = pd.DataFrame(data)\n",
        "• Fill missing values in column A with the mean of the column.\n",
        "• Drop rows where all values are None."
      ],
      "metadata": {
        "id": "ff6PK9CJB4om"
      }
    },
    {
      "cell_type": "code",
      "source": [
        "data = {\n",
        "    'A': [1, 2, None, 4],\n",
        "    'B': [None, 2, 3, None],\n",
        "    'C': [1, 2, 3, 4]\n",
        "}\n",
        "data_frame = pd.DataFrame(data)\n",
        "data_frame['A'] = data_frame['A'].fillna(data_frame['A'].mean())\n",
        "data_frame = data_frame.dropna(how='all')\n",
        "print(data_frame)\n"
      ],
      "metadata": {
        "colab": {
          "base_uri": "https://localhost:8080/"
        },
        "id": "O3GLHaaeB8lS",
        "outputId": "8baecb21-6692-4824-d45e-ad05ab33b708"
      },
      "execution_count": 18,
      "outputs": [
        {
          "output_type": "stream",
          "name": "stdout",
          "text": [
            "          A    B  C\n",
            "0  1.000000  NaN  1\n",
            "1  2.000000  2.0  2\n",
            "2  2.333333  3.0  3\n",
            "3  4.000000  NaN  4\n"
          ]
        }
      ]
    },
    {
      "cell_type": "markdown",
      "source": [
        "5. Create a DataFrame for employees:\n",
        "data = {\n",
        " 'Department': ['HR', 'HR', 'IT', 'IT', 'Finance'],\n",
        " 'Employee': ['Alice', 'Bob', 'Carol', 'David', 'Eve'],\n",
        " 'Salary': [50000, 45000, 60000, 65000, 70000]\n",
        "}\n",
        "• Group the data by Department and compute the total and mean salary for each\n",
        "department."
      ],
      "metadata": {
        "id": "iz6YdDWKCvMt"
      }
    },
    {
      "cell_type": "code",
      "source": [
        "data = {\n",
        "    'Department': ['HR', 'HR', 'IT', 'IT', 'Finance'],\n",
        "    'Employee': ['Alice', 'Bob', 'Carol', 'David', 'Eve'],\n",
        "    'Salary': [50000, 45000, 60000, 65000, 70000]\n",
        "}\n",
        "data_frame = pd.DataFrame(data)\n",
        "grouped = data_frame.groupby('Department')['Salary'].agg(['sum', 'mean'])\n",
        "print(grouped)\n"
      ],
      "metadata": {
        "colab": {
          "base_uri": "https://localhost:8080/"
        },
        "id": "2P-Uv7QRCyeP",
        "outputId": "fba64789-2def-4f75-8fc7-89068ee9261e"
      },
      "execution_count": 20,
      "outputs": [
        {
          "output_type": "stream",
          "name": "stdout",
          "text": [
            "               sum     mean\n",
            "Department                 \n",
            "Finance      70000  70000.0\n",
            "HR           95000  47500.0\n",
            "IT          125000  62500.0\n"
          ]
        }
      ]
    },
    {
      "cell_type": "markdown",
      "source": [
        "6. Given two DataFrames:\n",
        "df1 = pd.DataFrame({'ID': [1, 2, 3], 'Name': ['Alice', 'Bob', 'Carol']})\n",
        "df2 = pd.DataFrame({'ID': [2, 3, 4], 'Age': [25, 30, 22]})\n",
        "• Perform an inner join on the ID column."
      ],
      "metadata": {
        "id": "LxuAq8YDDMTz"
      }
    },
    {
      "cell_type": "code",
      "source": [
        "df1 = pd.DataFrame({'ID': [1, 2, 3], 'Name': ['Alice', 'Bob', 'Carol']})\n",
        "df2 = pd.DataFrame({'ID': [2, 3, 4], 'Age': [25, 30, 22]})\n",
        "merged_df = pd.merge(df1, df2, on='ID', how='inner')\n",
        "print(merged_df)\n"
      ],
      "metadata": {
        "colab": {
          "base_uri": "https://localhost:8080/"
        },
        "id": "Ush8emyODNm9",
        "outputId": "9e4a77d2-5c6f-4f74-b174-cf63f4b07196"
      },
      "execution_count": 21,
      "outputs": [
        {
          "output_type": "stream",
          "name": "stdout",
          "text": [
            "   ID   Name  Age\n",
            "0   2    Bob   25\n",
            "1   3  Carol   30\n"
          ]
        }
      ]
    },
    {
      "cell_type": "markdown",
      "source": [
        "7. Given a small dataset, clean and display basic statistics using Pandas."
      ],
      "metadata": {
        "id": "_rpzEChqDU0U"
      }
    },
    {
      "cell_type": "code",
      "source": [
        "data = {'Name': ['Alice', 'Bob', None], 'Age': [24, 27, 22], 'Salary': [50000, None, 48000]}\n",
        "data_frame = pd.DataFrame(data)\n",
        "data_frame['Salary'] = data_frame['Salary'].fillna(data_frame['Salary'].mean())\n",
        "print(data_frame.describe())\n"
      ],
      "metadata": {
        "colab": {
          "base_uri": "https://localhost:8080/"
        },
        "id": "Yajwbg9PDVar",
        "outputId": "f369ec34-418d-4f81-831c-757be0643c97"
      },
      "execution_count": 23,
      "outputs": [
        {
          "output_type": "stream",
          "name": "stdout",
          "text": [
            "             Age   Salary\n",
            "count   3.000000      3.0\n",
            "mean   24.333333  49000.0\n",
            "std     2.516611   1000.0\n",
            "min    22.000000  48000.0\n",
            "25%    23.000000  48500.0\n",
            "50%    24.000000  49000.0\n",
            "75%    25.500000  49500.0\n",
            "max    27.000000  50000.0\n"
          ]
        }
      ]
    },
    {
      "cell_type": "markdown",
      "source": [
        "8. small EDA task\n",
        "• Load the Titanic dataset (titanic.csv) into a Pandas DataFrame.\n",
        "• Perform the following tasks:\n",
        "o Display the number of missing values in each column.\n",
        "o Find the average age of passengers.\n",
        "o Create a bar plot to show the survival rate based on gender."
      ],
      "metadata": {
        "id": "-cMNCf-rDuW9"
      }
    },
    {
      "cell_type": "code",
      "source": [
        "import pandas as pd\n",
        "import matplotlib.pyplot as plt\n",
        "df = pd.read_csv(\"/content/Titanic-Dataset.csv\")\n",
        "print(\"Missing Values in Each Column:\")\n",
        "print(df.isnull().sum())\n",
        "average_age = df['Age'].mean()\n",
        "print(f\"\\nAverage Age of Passengers: {average_age:.2f}\")\n",
        "survival_rate_by_gender = df.groupby('Sex')['Survived'].mean()\n",
        "survival_rate_by_gender.plot(kind='bar', color=['skyblue', 'orange'], figsize=(8, 5))\n",
        "plt.title('Survival Rate by Gender')\n",
        "plt.xlabel('Gender')\n",
        "plt.ylabel('Survival Rate')\n",
        "plt.xticks(rotation=0)\n",
        "plt.show()"
      ],
      "metadata": {
        "colab": {
          "base_uri": "https://localhost:8080/",
          "height": 777
        },
        "id": "Yb07w54_Du3c",
        "outputId": "8b1a3d58-818a-4856-c180-c6b5538f35bb"
      },
      "execution_count": 30,
      "outputs": [
        {
          "output_type": "stream",
          "name": "stdout",
          "text": [
            "Missing Values in Each Column:\n",
            "PassengerId      0\n",
            "Survived         0\n",
            "Pclass           0\n",
            "Name             0\n",
            "Sex              0\n",
            "Age            177\n",
            "SibSp            0\n",
            "Parch            0\n",
            "Ticket           0\n",
            "Fare             0\n",
            "Cabin          687\n",
            "Embarked         2\n",
            "dtype: int64\n",
            "\n",
            "Average Age of Passengers: 29.70\n"
          ]
        },
        {
          "output_type": "display_data",
          "data": {
            "text/plain": [
              "<Figure size 800x500 with 1 Axes>"
            ],
            "image/png": "[encoded data removed]"
          },
          "metadata": {}
        }
      ]
    },
    {
      "cell_type": "markdown",
      "source": [
        "9. Data Transformation\n",
        "• Load a dataset containing daily temperatures and dates. Perform the following:\n",
        "o Convert the date column into a DateTime object.\n",
        "o Create a new column that categorizes temperatures into High, Medium, or\n",
        "Low."
      ],
      "metadata": {
        "id": "igZeixevOC4j"
      }
    },
    {
      "cell_type": "code",
      "source": [
        "import pandas as pd\n",
        "data = {\n",
        "    'Date': ['2024-01-01', '2024-01-02', '2024-01-03', '2024-01-04', '2024-01-05'],\n",
        "    'Temperature': [15, 22, 8, 30, 18]\n",
        "}\n",
        "df = pd.DataFrame(data)\n",
        "df['Date'] = pd.to_datetime(df['Date'])\n",
        "def categorize_temperature(temp):\n",
        "    if temp >= 25:\n",
        "        return 'High'\n",
        "    elif temp >= 15:\n",
        "        return 'Medium'\n",
        "    else:\n",
        "        return 'Low'\n",
        "df['Temperature_Category'] = df['Temperature'].apply(categorize_temperature)\n",
        "print(df)"
      ],
      "metadata": {
        "colab": {
          "base_uri": "https://localhost:8080/"
        },
        "id": "PTdF61xdOA8i",
        "outputId": "b53c9366-fc03-415d-db14-e90bda850ba9"
      },
      "execution_count": 29,
      "outputs": [
        {
          "output_type": "stream",
          "name": "stdout",
          "text": [
            "        Date  Temperature Temperature_Category\n",
            "0 2024-01-01           15               Medium\n",
            "1 2024-01-02           22               Medium\n",
            "2 2024-01-03            8                  Low\n",
            "3 2024-01-04           30                 High\n",
            "4 2024-01-05           18               Medium\n"
          ]
        }
      ]
    }
  ]
}