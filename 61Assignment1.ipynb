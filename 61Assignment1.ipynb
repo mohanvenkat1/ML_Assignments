{
  "nbformat": 4,
  "nbformat_minor": 0,
  "metadata": {
    "colab": {
      "provenance": [],
      "authorship_tag": "ABX9TyMV4jVFJd4bO3zH/RHsOyPm",
      "include_colab_link": true
    },
    "kernelspec": {
      "name": "python3",
      "display_name": "Python 3"
    },
    "language_info": {
      "name": "python"
    }
  },
  "cells": [
    {
      "cell_type": "markdown",
      "metadata": {
        "id": "view-in-github",
        "colab_type": "text"
      },
      "source": [
        "<a href=\"https://colab.research.google.com/github/mohanvenkat1/ML_Assignments/blob/main/61Assignment1.ipynb\" target=\"_parent\"><img src=\"https://colab.research.google.com/assets/colab-badge.svg\" alt=\"Open In Colab\"/></a>"
      ]
    },
    {
      "cell_type": "markdown",
      "source": [
        "Perform arithmetic operations on NumPy arrays."
      ],
      "metadata": {
        "id": "2AvzipsxLspV"
      }
    },
    {
      "cell_type": "code",
      "execution_count": 1,
      "metadata": {
        "colab": {
          "base_uri": "https://localhost:8080/"
        },
        "id": "9SeDta_8LmjI",
        "outputId": "db5f0462-f469-401f-efa3-24435de005e5"
      },
      "outputs": [
        {
          "output_type": "stream",
          "name": "stdout",
          "text": [
            "Addition: [ 6  8 10 12]\n",
            "Subtraction: [-4 -4 -4 -4]\n",
            "Multiplication: [ 5 12 21 32]\n",
            "Division: [0.2        0.33333333 0.42857143 0.5       ]\n"
          ]
        }
      ],
      "source": [
        "import numpy as np\n",
        "arr1 = np.array([1, 2, 3, 4])\n",
        "arr2 = np.array([5, 6, 7, 8])\n",
        "add_result = arr1 + arr2\n",
        "print(\"Addition:\", add_result)\n",
        "sub_result = arr1 - arr2\n",
        "print(\"Subtraction:\", sub_result)\n",
        "mul_result = arr1 * arr2\n",
        "print(\"Multiplication:\", mul_result)\n",
        "div_result = arr1 / arr2\n",
        "print(\"Division:\", div_result)"
      ]
    },
    {
      "cell_type": "markdown",
      "source": [
        "Write a script to compute the mean and standard deviation of a NumPy array."
      ],
      "metadata": {
        "id": "JbGucT_fLrAk"
      }
    },
    {
      "cell_type": "code",
      "source": [
        "a=np.array([1,3,5,7,9])\n",
        "sum=0\n",
        "for i in a:\n",
        "  sum=sum+i;\n",
        "n=a.size\n",
        "print(\"mean=\",(sum/n))\n",
        "print(\"standard deviation=\",np.std(a))"
      ],
      "metadata": {
        "colab": {
          "base_uri": "https://localhost:8080/"
        },
        "id": "IMuXNlFeMVH2",
        "outputId": "dbfea86c-6bc1-4fe2-dd3c-705b1dcb39f8"
      },
      "execution_count": 7,
      "outputs": [
        {
          "output_type": "stream",
          "name": "stdout",
          "text": [
            "mean= 5.0\n",
            "standard deviation= 2.8284271247461903\n"
          ]
        }
      ]
    },
    {
      "cell_type": "markdown",
      "source": [
        "Create a NumPy array of integers from 10 to 50 with a step size of 5."
      ],
      "metadata": {
        "id": "_YQ8NPOJMsZR"
      }
    },
    {
      "cell_type": "code",
      "source": [
        "arr = np.arange(10, 51, 5)\n",
        "print(arr)\n"
      ],
      "metadata": {
        "colab": {
          "base_uri": "https://localhost:8080/"
        },
        "id": "2MZSZPn-MxjG",
        "outputId": "a5740055-b8f9-4c69-b241-8d230bce42c1"
      },
      "execution_count": 6,
      "outputs": [
        {
          "output_type": "stream",
          "name": "stdout",
          "text": [
            "[10 15 20 25 30 35 40 45 50]\n"
          ]
        }
      ]
    },
    {
      "cell_type": "markdown",
      "source": [
        "Reshape the array into a 2x4 matrix."
      ],
      "metadata": {
        "id": "MBACu4LTM-Zg"
      }
    },
    {
      "cell_type": "code",
      "source": [
        "arr=np.array([9,8,7,6,5,4,3,2])\n",
        "print(arr)\n",
        "print(\"\\nResized to 2x4 matrix\\n\")\n",
        "resize=arr.reshape(2,4)\n",
        "print(resize)"
      ],
      "metadata": {
        "colab": {
          "base_uri": "https://localhost:8080/"
        },
        "id": "0tya5woNNB1P",
        "outputId": "290db8a9-31b9-456f-d1af-9ff715716129"
      },
      "execution_count": 11,
      "outputs": [
        {
          "output_type": "stream",
          "name": "stdout",
          "text": [
            "[9 8 7 6 5 4 3 2]\n",
            "\n",
            "Resized to 2x4 matrix\n",
            "\n",
            "[[9 8 7 6]\n",
            " [5 4 3 2]]\n"
          ]
        }
      ]
    },
    {
      "cell_type": "markdown",
      "source": [
        "Given the array arr = np.array([[1, 2, 3], [4, 5, 6], [7, 8, 9]]):\n",
        "• Extract the sub-matrix containing the last two rows and first two columns.\n",
        "• Replace all elements greater than 4 with 0."
      ],
      "metadata": {
        "id": "Ka8d5MZaNRbT"
      }
    },
    {
      "cell_type": "code",
      "source": [
        "arr = np.array([[1, 2, 3], [4, 5, 6], [7, 8, 9]])\n",
        "print(\"array=\\n\",arr)\n",
        "a=arr[1:,1:]\n",
        "print(\"sub matrix=\\n\",a)\n",
        "arr[arr>4]=0\n",
        "print(\"replaced matrix=\\n\",arr)"
      ],
      "metadata": {
        "colab": {
          "base_uri": "https://localhost:8080/"
        },
        "id": "P0e-6ZT0Nm04",
        "outputId": "41283e09-0401-49ce-e50a-42cd5f068260"
      },
      "execution_count": 12,
      "outputs": [
        {
          "output_type": "stream",
          "name": "stdout",
          "text": [
            "array=\n",
            " [[1 2 3]\n",
            " [4 5 6]\n",
            " [7 8 9]]\n",
            "sub matrix=\n",
            " [[5 6]\n",
            " [8 9]]\n",
            "replaced matrix=\n",
            " [[1 2 3]\n",
            " [4 0 0]\n",
            " [0 0 0]]\n"
          ]
        }
      ]
    },
    {
      "cell_type": "markdown",
      "source": [
        "Create two 1D arrays:\n",
        "• a = np.array([1, 2, 3])\n",
        "• b = np.array([4, 5, 6])\n",
        "• Perform element-wise addition, multiplication, and division."
      ],
      "metadata": {
        "id": "cA6tOmWPN8ww"
      }
    },
    {
      "cell_type": "code",
      "source": [
        "a = np.array([1, 2, 3])\n",
        "b = np.array([4, 5, 6])\n",
        "print(\"Element-wise Addition:\", a+b)\n",
        "print(\"Element-wise Multiplication:\", a*b)\n",
        "print(\"Element-wise Division:\", a/b)"
      ],
      "metadata": {
        "colab": {
          "base_uri": "https://localhost:8080/"
        },
        "id": "obW9BmXuOBk3",
        "outputId": "6378ac8a-6985-4b3b-8977-6ff70fee7d6c"
      },
      "execution_count": 13,
      "outputs": [
        {
          "output_type": "stream",
          "name": "stdout",
          "text": [
            "Element-wise Addition: [5 7 9]\n",
            "Element-wise Multiplication: [ 4 10 18]\n",
            "Element-wise Division: [0.25 0.4  0.5 ]\n"
          ]
        }
      ]
    },
    {
      "cell_type": "markdown",
      "source": [
        " Create a random NumPy array of size (4, 4). Compute:\n",
        "• Mean of each column.\n",
        "• Maximum value of the entire array.\n",
        "• Sum of all elements."
      ],
      "metadata": {
        "id": "LXeILJh5OZXw"
      }
    },
    {
      "cell_type": "code",
      "source": [
        "arr = np.random.rand(4, 4)\n",
        "print(\"Random array : \\n\",arr ,\"\\n\\n\")\n",
        "print(\"Mean of the entire array:\", np.mean(arr))\n",
        "print(\"Maximum value of the entire array:\", np.max(arr))\n",
        "print(\"Sum of all elements:\", np.sum(arr))\n"
      ],
      "metadata": {
        "colab": {
          "base_uri": "https://localhost:8080/"
        },
        "id": "MYHK4Mj1OXKD",
        "outputId": "125c533d-8352-42f5-a80f-6a26b4f1ad5e"
      },
      "execution_count": 18,
      "outputs": [
        {
          "output_type": "stream",
          "name": "stdout",
          "text": [
            "Random array : \n",
            " [[0.91983142 0.52235192 0.44932548 0.23526419]\n",
            " [0.91003619 0.38037998 0.98428879 0.71141964]\n",
            " [0.20104964 0.05088655 0.03198755 0.90436759]\n",
            " [0.75202693 0.37841271 0.70666168 0.30253943]] \n",
            "\n",
            "\n",
            "Mean of the entire array: 0.527551855896107\n",
            "Maximum value of the entire array: 0.9842887850455077\n",
            "Sum of all elements: 8.440829694337712\n"
          ]
        }
      ]
    },
    {
      "cell_type": "markdown",
      "source": [
        " Given the array arr = np.array([1, 2, 3, 4]), add 10 to each element and multiply\n",
        "the result by 2."
      ],
      "metadata": {
        "id": "eproKVRiPIMB"
      }
    },
    {
      "cell_type": "code",
      "source": [
        "arr = np.array([1, 2, 3, 4])\n",
        "print(\"adding 10 : \",arr+10)\n",
        "print(\"multiply by 2 : \",arr*2)\n",
        "result=2*(arr+10)\n",
        "print(\"adding 10 each and multiplying by 2 : \",result)"
      ],
      "metadata": {
        "colab": {
          "base_uri": "https://localhost:8080/"
        },
        "id": "0x-9IOIWPM1a",
        "outputId": "83e7c9ea-38f4-41a3-f6f9-a540fb6a58aa"
      },
      "execution_count": 20,
      "outputs": [
        {
          "output_type": "stream",
          "name": "stdout",
          "text": [
            "adding 10 :  [11 12 13 14]\n",
            "multiply by 2 :  [2 4 6 8]\n",
            "adding 10 each and multiplying by 2 :  [22 24 26 28]\n"
          ]
        }
      ]
    },
    {
      "cell_type": "markdown",
      "source": [
        " Perform advanced slicing and indexing on a 3D array.\n",
        "Create a 3D NumPy array arr of shape (3, 4, 5) with random integers ranging from\n",
        "1 to 100. Perform the following:\n",
        "• Extract the second \"layer\" (i.e., the second 2D array) in the first dimension.\n",
        "• Extract the first two rows and the last three columns from each \"layer.\"\n",
        "• Replace all elements divisible by 3 with -1.\n"
      ],
      "metadata": {
        "id": "hsggnsJpPvaS"
      }
    },
    {
      "cell_type": "code",
      "source": [
        "arr = np.random.randint(1, 101, size=(3, 4, 5))\n",
        "print(\"Random Array of shape(3,4,5):\\n\\n\", arr)\n",
        "second_layer = arr[1]\n",
        "print(\"\\nSecond Layer in the first dimention :\\n\\n\", second_layer)\n",
        "first_two_rows_last_three_columns = arr[:, :2, -3:]\n",
        "print(\"\\nFirst Two Rows and Last Three Columns from Each Layer:\\n\\n\", first_two_rows_last_three_columns)\n",
        "arr[arr % 3 == 0] = -1\n",
        "print(\"\\nArray After Replacing Elements Divisible by 3 with -1:\\n\\n\", arr)"
      ],
      "metadata": {
        "colab": {
          "base_uri": "https://localhost:8080/"
        },
        "id": "LCTkcmLwP4MB",
        "outputId": "271e6320-366d-492b-bbef-5b6c3b63b6dd"
      },
      "execution_count": 23,
      "outputs": [
        {
          "output_type": "stream",
          "name": "stdout",
          "text": [
            "Random Array of shape(3,4,5):\n",
            "\n",
            " [[[36  9 67 85  9]\n",
            "  [35 57 91 80 10]\n",
            "  [42 70 96 29 13]\n",
            "  [60 72 58 23  4]]\n",
            "\n",
            " [[68 68 67  2 26]\n",
            "  [41 88 26 75 30]\n",
            "  [29 95 45 79 74]\n",
            "  [62 68 89 99 57]]\n",
            "\n",
            " [[94 50 74 37  5]\n",
            "  [97 61  9 11 20]\n",
            "  [62 42 68 52 74]\n",
            "  [49 55 50 74 63]]]\n",
            "\n",
            "Second Layer in the first dimention :\n",
            "\n",
            " [[68 68 67  2 26]\n",
            " [41 88 26 75 30]\n",
            " [29 95 45 79 74]\n",
            " [62 68 89 99 57]]\n",
            "\n",
            "First Two Rows and Last Three Columns from Each Layer:\n",
            "\n",
            " [[[67 85  9]\n",
            "  [91 80 10]]\n",
            "\n",
            " [[67  2 26]\n",
            "  [26 75 30]]\n",
            "\n",
            " [[74 37  5]\n",
            "  [ 9 11 20]]]\n",
            "\n",
            "Array After Replacing Elements Divisible by 3 with -1:\n",
            "\n",
            " [[[-1 -1 67 85 -1]\n",
            "  [35 -1 91 80 10]\n",
            "  [-1 70 -1 29 13]\n",
            "  [-1 -1 58 23  4]]\n",
            "\n",
            " [[68 68 67  2 26]\n",
            "  [41 88 26 -1 -1]\n",
            "  [29 95 -1 79 74]\n",
            "  [62 68 89 -1 -1]]\n",
            "\n",
            " [[94 50 74 37  5]\n",
            "  [97 61 -1 11 20]\n",
            "  [62 -1 68 52 74]\n",
            "  [49 55 50 74 -1]]]\n"
          ]
        }
      ]
    },
    {
      "cell_type": "markdown",
      "source": [
        " Work with broadcasting and advanced operations in NumPy.\n",
        "Create a NumPy array arr of shape (3, 3) with random integers between  \n",
        "1 and 20. Perform the following:\n",
        "• Subtract the mean of each row from its respective elements (row-wise\n",
        "normalization).\n",
        "• Create a new array by squaring all the elements in arr.\n",
        "• Find the indices of the top 3 maximum values in the entire array."
      ],
      "metadata": {
        "id": "vcoKSIFIQ1RI"
      }
    },
    {
      "cell_type": "code",
      "source": [
        "arr=np.random.randint(1,20,size=(3,3))\n",
        "print(arr)\n",
        "print(\"after subtracting mean:\\n\")\n",
        "row1=arr[0:1]-np.mean(arr[0:1])\n",
        "row2=arr[1:2]-np.mean(arr[1:2])\n",
        "row3=arr[2:3]-np.mean(arr[2:3])\n",
        "print(row1,\"\\n\",row2,\"\\n\",row3)\n",
        "squared_elements=arr*arr\n",
        "print(\"\\n\\nsquared array:\\n\\n\",squared_elements)\n",
        "top_indices = np.argsort(arr, axis=None)[-3:]\n",
        "\n",
        "\n",
        "top_2d_indices = np.unravel_index(top_indices, arr.shape)\n",
        "\n",
        "\n",
        "print(\"\\nTop 3 indices:\\n\\n\", list(zip(top_2d_indices[0], top_2d_indices[1])))\n",
        "print(\"\\nTop 3 values:\\n\\n\", arr[top_2d_indices])"
      ],
      "metadata": {
        "colab": {
          "base_uri": "https://localhost:8080/"
        },
        "id": "JO6vAsmXQ6iK",
        "outputId": "b6d8ad7f-65d5-47b2-a7d5-1bbb24b94c82"
      },
      "execution_count": 29,
      "outputs": [
        {
          "output_type": "stream",
          "name": "stdout",
          "text": [
            "[[15  7 12]\n",
            " [13  9 19]\n",
            " [ 6  9  3]]\n",
            "after subtracting mean:\n",
            "\n",
            "[[ 3.66666667 -4.33333333  0.66666667]] \n",
            " [[-0.66666667 -4.66666667  5.33333333]] \n",
            " [[ 0.  3. -3.]]\n",
            "\n",
            "\n",
            "squared array:\n",
            "\n",
            " [[225  49 144]\n",
            " [169  81 361]\n",
            " [ 36  81   9]]\n",
            "\n",
            "Top 3 indices:\n",
            "\n",
            " [(1, 0), (0, 0), (1, 2)]\n",
            "\n",
            "Top 3 values:\n",
            "\n",
            " [13 15 19]\n"
          ]
        }
      ]
    }
  ]
}