{
  "nbformat": 4,
  "nbformat_minor": 0,
  "metadata": {
    "colab": {
      "provenance": [],
      "authorship_tag": "ABX9TyMfxQGYg4U1aimNceC1gaTw",
      "include_colab_link": true
    },
    "kernelspec": {
      "name": "python3",
      "display_name": "Python 3"
    },
    "language_info": {
      "name": "python"
    }
  },
  "cells": [
    {
      "cell_type": "markdown",
      "metadata": {
        "id": "view-in-github",
        "colab_type": "text"
      },
      "source": [
        "<a href=\"https://colab.research.google.com/github/mohanvenkat1/ML_Assignments/blob/main/Assignment6.ipynb\" target=\"_parent\"><img src=\"https://colab.research.google.com/assets/colab-badge.svg\" alt=\"Open In Colab\"/></a>"
      ]
    },
    {
      "cell_type": "code",
      "execution_count": 2,
      "metadata": {
        "colab": {
          "base_uri": "https://localhost:8080/"
        },
        "id": "nM9GRRRiHjT2",
        "outputId": "9a67061f-d31e-4004-e1f0-44bd608f2a09"
      },
      "outputs": [
        {
          "output_type": "stream",
          "name": "stdout",
          "text": [
            "Loading the dataset...\n",
            "Encoding categorical variables...\n",
            "Preparing features and target variable...\n",
            "Splitting the data into training and testing sets...\n",
            "Training Multiple Linear Regression model...\n",
            "Training Lasso Regression model (L1 Regularization)...\n",
            "Training Ridge Regression model (L2 Regularization)...\n",
            "\n",
            "Metrics for Multiple Linear Regression:\n",
            "{'MAE_Train': 6662.656240898311, 'MSE_Train': 79700060.08259317, 'RMSE_Train': 8927.489013300054, 'R2_Train': 0.9537019995248526, 'MAE_Test': 6961.477813252376, 'MSE_Test': 82010363.04430094, 'RMSE_Test': 9055.957323458462, 'R2_Test': 0.8987266414328638}\n",
            "\n",
            "Metrics for Lasso Regression:\n",
            "{'MAE_Train': 6662.622932690499, 'MSE_Train': 79700060.27993599, 'RMSE_Train': 8927.489024352592, 'R2_Train': 0.9537019994102155, 'MAE_Test': 6961.4878705766805, 'MSE_Test': 82009745.37455888, 'RMSE_Test': 9055.923220443008, 'R2_Test': 0.8987274041838984}\n",
            "\n",
            "Metrics for Ridge Regression:\n",
            "{'MAE_Train': 6655.459914790334, 'MSE_Train': 79702550.75975187, 'RMSE_Train': 8927.628507042162, 'R2_Train': 0.9537005526831293, 'MAE_Test': 6963.340034795976, 'MSE_Test': 81887773.6603624, 'RMSE_Test': 9049.186353499545, 'R2_Test': 0.8988780252113923}\n",
            "\n",
            "Generating summary table...\n",
            "\n",
            "Summary Table:\n",
            "       Metric  No Regularization  L1-Regularization  L2-Regularization\n",
            "0   MAE_Train       6.662656e+03       6.662623e+03       6.655460e+03\n",
            "1   MSE_Train       7.970006e+07       7.970006e+07       7.970255e+07\n",
            "2  RMSE_Train       8.927489e+03       8.927489e+03       8.927629e+03\n",
            "3    R2_Train       9.537020e-01       9.537020e-01       9.537006e-01\n",
            "4    MAE_Test       6.961478e+03       6.961488e+03       6.963340e+03\n",
            "5    MSE_Test       8.201036e+07       8.200975e+07       8.188777e+07\n",
            "6   RMSE_Test       9.055957e+03       9.055923e+03       9.049186e+03\n",
            "7     R2_Test       8.987266e-01       8.987274e-01       8.988780e-01\n"
          ]
        }
      ],
      "source": [
        "import numpy as np\n",
        "import pandas as pd\n",
        "from sklearn.model_selection import train_test_split\n",
        "from sklearn.linear_model import LinearRegression, Lasso, Ridge\n",
        "from sklearn.metrics import mean_absolute_error, mean_squared_error, r2_score\n",
        "print(\"Loading the dataset...\")\n",
        "df = pd.read_csv('/content/50_Startups.csv')\n",
        "print(\"Encoding categorical variables...\")\n",
        "df = pd.get_dummies(df, columns=[\"State\"], drop_first=True)\n",
        "print(\"Preparing features and target variable...\")\n",
        "X = df.drop(\"Profit\", axis=1).values\n",
        "y = df[\"Profit\"].values.reshape(-1, 1)\n",
        "print(\"Splitting the data into training and testing sets...\")\n",
        "X_train, X_test, y_train, y_test = train_test_split(X, y, test_size=0.2, random_state=42)\n",
        "def evaluate_model(model, X_train, y_train, X_test, y_test):\n",
        "    y_pred_train = model.predict(X_train)\n",
        "    y_pred_test = model.predict(X_test)\n",
        "    metrics = {\n",
        "        \"MAE_Train\": mean_absolute_error(y_train, y_pred_train),\n",
        "        \"MSE_Train\": mean_squared_error(y_train, y_pred_train),\n",
        "        \"RMSE_Train\": np.sqrt(mean_squared_error(y_train, y_pred_train)),\n",
        "        \"R2_Train\": r2_score(y_train, y_pred_train),\n",
        "        \"MAE_Test\": mean_absolute_error(y_test, y_pred_test),\n",
        "        \"MSE_Test\": mean_squared_error(y_test, y_pred_test),\n",
        "        \"RMSE_Test\": np.sqrt(mean_squared_error(y_test, y_pred_test)),\n",
        "        \"R2_Test\": r2_score(y_test, y_pred_test),\n",
        "    }\n",
        "    return metrics\n",
        "print(\"Training Multiple Linear Regression model...\")\n",
        "lr = LinearRegression()\n",
        "lr.fit(X_train, y_train)\n",
        "metrics_lr = evaluate_model(lr, X_train, y_train, X_test, y_test)\n",
        "print(\"Training Lasso Regression model (L1 Regularization)...\")\n",
        "lasso = Lasso(alpha=0.1)\n",
        "lasso.fit(X_train, y_train)\n",
        "metrics_lasso = evaluate_model(lasso, X_train, y_train, X_test, y_test)\n",
        "print(\"Training Ridge Regression model (L2 Regularization)...\")\n",
        "ridge = Ridge(alpha=1.0)\n",
        "ridge.fit(X_train, y_train)\n",
        "metrics_ridge = evaluate_model(ridge, X_train, y_train, X_test, y_test)\n",
        "print(\"\\nMetrics for Multiple Linear Regression:\")\n",
        "print(metrics_lr)\n",
        "print(\"\\nMetrics for Lasso Regression:\")\n",
        "print(metrics_lasso)\n",
        "print(\"\\nMetrics for Ridge Regression:\")\n",
        "print(metrics_ridge)\n",
        "print(\"\\nGenerating summary table...\")\n",
        "summary = pd.DataFrame({\n",
        "    \"Metric\": [\"MAE_Train\", \"MSE_Train\", \"RMSE_Train\", \"R2_Train\", \"MAE_Test\", \"MSE_Test\", \"RMSE_Test\", \"R2_Test\"],\n",
        "    \"No Regularization\": list(metrics_lr.values()),\n",
        "    \"L1-Regularization\": list(metrics_lasso.values()),\n",
        "    \"L2-Regularization\": list(metrics_ridge.values())\n",
        "})\n",
        "print(\"\\nSummary Table:\")\n",
        "print(summary)\n"
      ]
    }
  ]
}